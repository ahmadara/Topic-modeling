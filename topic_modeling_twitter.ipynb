{
 "cells": [
  {
   "cell_type": "code",
   "execution_count": null,
   "metadata": {
    "colab": {
     "base_uri": "https://localhost:8080/",
     "height": 1000
    },
    "id": "H1tsGw55hVOn",
    "outputId": "8255b7e5-7860-47aa-e27e-35fe17b4edd4"
   },
   "outputs": [
    {
     "name": "stdout",
     "output_type": "stream",
     "text": [
      "Collecting pyLDAvis\n",
      "  Downloading pyLDAvis-3.3.1.tar.gz (1.7 MB)\n",
      "\u001b[?25l\r",
      "\u001b[K     |▏                               | 10 kB 17.0 MB/s eta 0:00:01\r",
      "\u001b[K     |▍                               | 20 kB 11.9 MB/s eta 0:00:01\r",
      "\u001b[K     |▋                               | 30 kB 9.7 MB/s eta 0:00:01\r",
      "\u001b[K     |▉                               | 40 kB 8.7 MB/s eta 0:00:01\r",
      "\u001b[K     |█                               | 51 kB 4.4 MB/s eta 0:00:01\r",
      "\u001b[K     |█▏                              | 61 kB 5.1 MB/s eta 0:00:01\r",
      "\u001b[K     |█▍                              | 71 kB 5.4 MB/s eta 0:00:01\r",
      "\u001b[K     |█▋                              | 81 kB 5.9 MB/s eta 0:00:01\r",
      "\u001b[K     |█▉                              | 92 kB 4.7 MB/s eta 0:00:01\r",
      "\u001b[K     |██                              | 102 kB 5.1 MB/s eta 0:00:01\r",
      "\u001b[K     |██▏                             | 112 kB 5.1 MB/s eta 0:00:01\r",
      "\u001b[K     |██▍                             | 122 kB 5.1 MB/s eta 0:00:01\r",
      "\u001b[K     |██▋                             | 133 kB 5.1 MB/s eta 0:00:01\r",
      "\u001b[K     |██▊                             | 143 kB 5.1 MB/s eta 0:00:01\r",
      "\u001b[K     |███                             | 153 kB 5.1 MB/s eta 0:00:01\r",
      "\u001b[K     |███▏                            | 163 kB 5.1 MB/s eta 0:00:01\r",
      "\u001b[K     |███▍                            | 174 kB 5.1 MB/s eta 0:00:01\r",
      "\u001b[K     |███▋                            | 184 kB 5.1 MB/s eta 0:00:01\r",
      "\u001b[K     |███▊                            | 194 kB 5.1 MB/s eta 0:00:01\r",
      "\u001b[K     |████                            | 204 kB 5.1 MB/s eta 0:00:01\r",
      "\u001b[K     |████▏                           | 215 kB 5.1 MB/s eta 0:00:01\r",
      "\u001b[K     |████▍                           | 225 kB 5.1 MB/s eta 0:00:01\r",
      "\u001b[K     |████▋                           | 235 kB 5.1 MB/s eta 0:00:01\r",
      "\u001b[K     |████▊                           | 245 kB 5.1 MB/s eta 0:00:01\r",
      "\u001b[K     |█████                           | 256 kB 5.1 MB/s eta 0:00:01\r",
      "\u001b[K     |█████▏                          | 266 kB 5.1 MB/s eta 0:00:01\r",
      "\u001b[K     |█████▍                          | 276 kB 5.1 MB/s eta 0:00:01\r",
      "\u001b[K     |█████▌                          | 286 kB 5.1 MB/s eta 0:00:01\r",
      "\u001b[K     |█████▊                          | 296 kB 5.1 MB/s eta 0:00:01\r",
      "\u001b[K     |██████                          | 307 kB 5.1 MB/s eta 0:00:01\r",
      "\u001b[K     |██████▏                         | 317 kB 5.1 MB/s eta 0:00:01\r",
      "\u001b[K     |██████▍                         | 327 kB 5.1 MB/s eta 0:00:01\r",
      "\u001b[K     |██████▌                         | 337 kB 5.1 MB/s eta 0:00:01\r",
      "\u001b[K     |██████▊                         | 348 kB 5.1 MB/s eta 0:00:01\r",
      "\u001b[K     |███████                         | 358 kB 5.1 MB/s eta 0:00:01\r",
      "\u001b[K     |███████▏                        | 368 kB 5.1 MB/s eta 0:00:01\r",
      "\u001b[K     |███████▎                        | 378 kB 5.1 MB/s eta 0:00:01\r",
      "\u001b[K     |███████▌                        | 389 kB 5.1 MB/s eta 0:00:01\r",
      "\u001b[K     |███████▊                        | 399 kB 5.1 MB/s eta 0:00:01\r",
      "\u001b[K     |████████                        | 409 kB 5.1 MB/s eta 0:00:01\r",
      "\u001b[K     |████████▏                       | 419 kB 5.1 MB/s eta 0:00:01\r",
      "\u001b[K     |████████▎                       | 430 kB 5.1 MB/s eta 0:00:01\r",
      "\u001b[K     |████████▌                       | 440 kB 5.1 MB/s eta 0:00:01\r",
      "\u001b[K     |████████▊                       | 450 kB 5.1 MB/s eta 0:00:01\r",
      "\u001b[K     |█████████                       | 460 kB 5.1 MB/s eta 0:00:01\r",
      "\u001b[K     |█████████▏                      | 471 kB 5.1 MB/s eta 0:00:01\r",
      "\u001b[K     |█████████▎                      | 481 kB 5.1 MB/s eta 0:00:01\r",
      "\u001b[K     |█████████▌                      | 491 kB 5.1 MB/s eta 0:00:01\r",
      "\u001b[K     |█████████▊                      | 501 kB 5.1 MB/s eta 0:00:01\r",
      "\u001b[K     |██████████                      | 512 kB 5.1 MB/s eta 0:00:01\r",
      "\u001b[K     |██████████                      | 522 kB 5.1 MB/s eta 0:00:01\r",
      "\u001b[K     |██████████▎                     | 532 kB 5.1 MB/s eta 0:00:01\r",
      "\u001b[K     |██████████▌                     | 542 kB 5.1 MB/s eta 0:00:01\r",
      "\u001b[K     |██████████▊                     | 552 kB 5.1 MB/s eta 0:00:01\r",
      "\u001b[K     |███████████                     | 563 kB 5.1 MB/s eta 0:00:01\r",
      "\u001b[K     |███████████                     | 573 kB 5.1 MB/s eta 0:00:01\r",
      "\u001b[K     |███████████▎                    | 583 kB 5.1 MB/s eta 0:00:01\r",
      "\u001b[K     |███████████▌                    | 593 kB 5.1 MB/s eta 0:00:01\r",
      "\u001b[K     |███████████▊                    | 604 kB 5.1 MB/s eta 0:00:01\r",
      "\u001b[K     |███████████▉                    | 614 kB 5.1 MB/s eta 0:00:01\r",
      "\u001b[K     |████████████                    | 624 kB 5.1 MB/s eta 0:00:01\r",
      "\u001b[K     |████████████▎                   | 634 kB 5.1 MB/s eta 0:00:01\r",
      "\u001b[K     |████████████▌                   | 645 kB 5.1 MB/s eta 0:00:01\r",
      "\u001b[K     |████████████▊                   | 655 kB 5.1 MB/s eta 0:00:01\r",
      "\u001b[K     |████████████▉                   | 665 kB 5.1 MB/s eta 0:00:01\r",
      "\u001b[K     |█████████████                   | 675 kB 5.1 MB/s eta 0:00:01\r",
      "\u001b[K     |█████████████▎                  | 686 kB 5.1 MB/s eta 0:00:01\r",
      "\u001b[K     |█████████████▌                  | 696 kB 5.1 MB/s eta 0:00:01\r",
      "\u001b[K     |█████████████▊                  | 706 kB 5.1 MB/s eta 0:00:01\r",
      "\u001b[K     |█████████████▉                  | 716 kB 5.1 MB/s eta 0:00:01\r",
      "\u001b[K     |██████████████                  | 727 kB 5.1 MB/s eta 0:00:01\r",
      "\u001b[K     |██████████████▎                 | 737 kB 5.1 MB/s eta 0:00:01\r",
      "\u001b[K     |██████████████▌                 | 747 kB 5.1 MB/s eta 0:00:01\r",
      "\u001b[K     |██████████████▋                 | 757 kB 5.1 MB/s eta 0:00:01\r",
      "\u001b[K     |██████████████▉                 | 768 kB 5.1 MB/s eta 0:00:01\r",
      "\u001b[K     |███████████████                 | 778 kB 5.1 MB/s eta 0:00:01\r",
      "\u001b[K     |███████████████▎                | 788 kB 5.1 MB/s eta 0:00:01\r",
      "\u001b[K     |███████████████▌                | 798 kB 5.1 MB/s eta 0:00:01\r",
      "\u001b[K     |███████████████▋                | 808 kB 5.1 MB/s eta 0:00:01\r",
      "\u001b[K     |███████████████▉                | 819 kB 5.1 MB/s eta 0:00:01\r",
      "\u001b[K     |████████████████                | 829 kB 5.1 MB/s eta 0:00:01\r",
      "\u001b[K     |████████████████▎               | 839 kB 5.1 MB/s eta 0:00:01\r",
      "\u001b[K     |████████████████▍               | 849 kB 5.1 MB/s eta 0:00:01\r",
      "\u001b[K     |████████████████▋               | 860 kB 5.1 MB/s eta 0:00:01\r",
      "\u001b[K     |████████████████▉               | 870 kB 5.1 MB/s eta 0:00:01\r",
      "\u001b[K     |█████████████████               | 880 kB 5.1 MB/s eta 0:00:01\r",
      "\u001b[K     |█████████████████▎              | 890 kB 5.1 MB/s eta 0:00:01\r",
      "\u001b[K     |█████████████████▍              | 901 kB 5.1 MB/s eta 0:00:01\r",
      "\u001b[K     |█████████████████▋              | 911 kB 5.1 MB/s eta 0:00:01\r",
      "\u001b[K     |█████████████████▉              | 921 kB 5.1 MB/s eta 0:00:01\r",
      "\u001b[K     |██████████████████              | 931 kB 5.1 MB/s eta 0:00:01\r",
      "\u001b[K     |██████████████████▎             | 942 kB 5.1 MB/s eta 0:00:01\r",
      "\u001b[K     |██████████████████▍             | 952 kB 5.1 MB/s eta 0:00:01\r",
      "\u001b[K     |██████████████████▋             | 962 kB 5.1 MB/s eta 0:00:01\r",
      "\u001b[K     |██████████████████▉             | 972 kB 5.1 MB/s eta 0:00:01\r",
      "\u001b[K     |███████████████████             | 983 kB 5.1 MB/s eta 0:00:01\r",
      "\u001b[K     |███████████████████▏            | 993 kB 5.1 MB/s eta 0:00:01\r",
      "\u001b[K     |███████████████████▍            | 1.0 MB 5.1 MB/s eta 0:00:01\r",
      "\u001b[K     |███████████████████▋            | 1.0 MB 5.1 MB/s eta 0:00:01\r",
      "\u001b[K     |███████████████████▉            | 1.0 MB 5.1 MB/s eta 0:00:01\r",
      "\u001b[K     |████████████████████            | 1.0 MB 5.1 MB/s eta 0:00:01\r",
      "\u001b[K     |████████████████████▏           | 1.0 MB 5.1 MB/s eta 0:00:01\r",
      "\u001b[K     |████████████████████▍           | 1.1 MB 5.1 MB/s eta 0:00:01\r",
      "\u001b[K     |████████████████████▋           | 1.1 MB 5.1 MB/s eta 0:00:01\r",
      "\u001b[K     |████████████████████▉           | 1.1 MB 5.1 MB/s eta 0:00:01\r",
      "\u001b[K     |█████████████████████           | 1.1 MB 5.1 MB/s eta 0:00:01\r",
      "\u001b[K     |█████████████████████▏          | 1.1 MB 5.1 MB/s eta 0:00:01\r",
      "\u001b[K     |█████████████████████▍          | 1.1 MB 5.1 MB/s eta 0:00:01\r",
      "\u001b[K     |█████████████████████▋          | 1.1 MB 5.1 MB/s eta 0:00:01\r",
      "\u001b[K     |█████████████████████▉          | 1.1 MB 5.1 MB/s eta 0:00:01\r",
      "\u001b[K     |██████████████████████          | 1.1 MB 5.1 MB/s eta 0:00:01\r",
      "\u001b[K     |██████████████████████▏         | 1.1 MB 5.1 MB/s eta 0:00:01\r",
      "\u001b[K     |██████████████████████▍         | 1.2 MB 5.1 MB/s eta 0:00:01\r",
      "\u001b[K     |██████████████████████▋         | 1.2 MB 5.1 MB/s eta 0:00:01\r",
      "\u001b[K     |██████████████████████▉         | 1.2 MB 5.1 MB/s eta 0:00:01\r",
      "\u001b[K     |███████████████████████         | 1.2 MB 5.1 MB/s eta 0:00:01\r",
      "\u001b[K     |███████████████████████▏        | 1.2 MB 5.1 MB/s eta 0:00:01\r",
      "\u001b[K     |███████████████████████▍        | 1.2 MB 5.1 MB/s eta 0:00:01\r",
      "\u001b[K     |███████████████████████▋        | 1.2 MB 5.1 MB/s eta 0:00:01\r",
      "\u001b[K     |███████████████████████▊        | 1.2 MB 5.1 MB/s eta 0:00:01\r",
      "\u001b[K     |████████████████████████        | 1.2 MB 5.1 MB/s eta 0:00:01\r",
      "\u001b[K     |████████████████████████▏       | 1.2 MB 5.1 MB/s eta 0:00:01\r",
      "\u001b[K     |████████████████████████▍       | 1.3 MB 5.1 MB/s eta 0:00:01\r",
      "\u001b[K     |████████████████████████▋       | 1.3 MB 5.1 MB/s eta 0:00:01\r",
      "\u001b[K     |████████████████████████▊       | 1.3 MB 5.1 MB/s eta 0:00:01\r",
      "\u001b[K     |█████████████████████████       | 1.3 MB 5.1 MB/s eta 0:00:01\r",
      "\u001b[K     |█████████████████████████▏      | 1.3 MB 5.1 MB/s eta 0:00:01\r",
      "\u001b[K     |█████████████████████████▍      | 1.3 MB 5.1 MB/s eta 0:00:01\r",
      "\u001b[K     |█████████████████████████▌      | 1.3 MB 5.1 MB/s eta 0:00:01\r",
      "\u001b[K     |█████████████████████████▊      | 1.3 MB 5.1 MB/s eta 0:00:01\r",
      "\u001b[K     |██████████████████████████      | 1.3 MB 5.1 MB/s eta 0:00:01\r",
      "\u001b[K     |██████████████████████████▏     | 1.4 MB 5.1 MB/s eta 0:00:01\r",
      "\u001b[K     |██████████████████████████▍     | 1.4 MB 5.1 MB/s eta 0:00:01\r",
      "\u001b[K     |██████████████████████████▌     | 1.4 MB 5.1 MB/s eta 0:00:01\r",
      "\u001b[K     |██████████████████████████▊     | 1.4 MB 5.1 MB/s eta 0:00:01\r",
      "\u001b[K     |███████████████████████████     | 1.4 MB 5.1 MB/s eta 0:00:01\r",
      "\u001b[K     |███████████████████████████▏    | 1.4 MB 5.1 MB/s eta 0:00:01\r",
      "\u001b[K     |███████████████████████████▍    | 1.4 MB 5.1 MB/s eta 0:00:01\r",
      "\u001b[K     |███████████████████████████▌    | 1.4 MB 5.1 MB/s eta 0:00:01\r",
      "\u001b[K     |███████████████████████████▊    | 1.4 MB 5.1 MB/s eta 0:00:01\r",
      "\u001b[K     |████████████████████████████    | 1.4 MB 5.1 MB/s eta 0:00:01\r",
      "\u001b[K     |████████████████████████████▏   | 1.5 MB 5.1 MB/s eta 0:00:01\r",
      "\u001b[K     |████████████████████████████▎   | 1.5 MB 5.1 MB/s eta 0:00:01\r",
      "\u001b[K     |████████████████████████████▌   | 1.5 MB 5.1 MB/s eta 0:00:01\r",
      "\u001b[K     |████████████████████████████▊   | 1.5 MB 5.1 MB/s eta 0:00:01\r",
      "\u001b[K     |█████████████████████████████   | 1.5 MB 5.1 MB/s eta 0:00:01\r",
      "\u001b[K     |█████████████████████████████▏  | 1.5 MB 5.1 MB/s eta 0:00:01\r",
      "\u001b[K     |█████████████████████████████▎  | 1.5 MB 5.1 MB/s eta 0:00:01\r",
      "\u001b[K     |█████████████████████████████▌  | 1.5 MB 5.1 MB/s eta 0:00:01\r",
      "\u001b[K     |█████████████████████████████▊  | 1.5 MB 5.1 MB/s eta 0:00:01\r",
      "\u001b[K     |██████████████████████████████  | 1.5 MB 5.1 MB/s eta 0:00:01\r",
      "\u001b[K     |██████████████████████████████▏ | 1.6 MB 5.1 MB/s eta 0:00:01\r",
      "\u001b[K     |██████████████████████████████▎ | 1.6 MB 5.1 MB/s eta 0:00:01\r",
      "\u001b[K     |██████████████████████████████▌ | 1.6 MB 5.1 MB/s eta 0:00:01\r",
      "\u001b[K     |██████████████████████████████▊ | 1.6 MB 5.1 MB/s eta 0:00:01\r",
      "\u001b[K     |███████████████████████████████ | 1.6 MB 5.1 MB/s eta 0:00:01\r",
      "\u001b[K     |███████████████████████████████ | 1.6 MB 5.1 MB/s eta 0:00:01\r",
      "\u001b[K     |███████████████████████████████▎| 1.6 MB 5.1 MB/s eta 0:00:01\r",
      "\u001b[K     |███████████████████████████████▌| 1.6 MB 5.1 MB/s eta 0:00:01\r",
      "\u001b[K     |███████████████████████████████▊| 1.6 MB 5.1 MB/s eta 0:00:01\r",
      "\u001b[K     |████████████████████████████████| 1.6 MB 5.1 MB/s eta 0:00:01\r",
      "\u001b[K     |████████████████████████████████| 1.7 MB 5.1 MB/s \n",
      "\u001b[?25h  Installing build dependencies ... \u001b[?25l\u001b[?25hdone\n",
      "  Getting requirements to build wheel ... \u001b[?25l\u001b[?25hdone\n",
      "  Installing backend dependencies ... \u001b[?25l\u001b[?25hdone\n",
      "    Preparing wheel metadata ... \u001b[?25l\u001b[?25hdone\n",
      "Collecting pandas>=1.2.0\n",
      "  Downloading pandas-1.3.5-cp37-cp37m-manylinux_2_17_x86_64.manylinux2014_x86_64.whl (11.3 MB)\n",
      "\u001b[K     |████████████████████████████████| 11.3 MB 26.8 MB/s \n",
      "\u001b[?25hRequirement already satisfied: scipy in /usr/local/lib/python3.7/dist-packages (from pyLDAvis) (1.4.1)\n",
      "Requirement already satisfied: jinja2 in /usr/local/lib/python3.7/dist-packages (from pyLDAvis) (2.11.3)\n",
      "Requirement already satisfied: setuptools in /usr/local/lib/python3.7/dist-packages (from pyLDAvis) (57.4.0)\n",
      "Collecting funcy\n",
      "  Downloading funcy-1.17-py2.py3-none-any.whl (33 kB)\n",
      "Requirement already satisfied: future in /usr/local/lib/python3.7/dist-packages (from pyLDAvis) (0.16.0)\n",
      "Requirement already satisfied: joblib in /usr/local/lib/python3.7/dist-packages (from pyLDAvis) (1.1.0)\n",
      "Requirement already satisfied: gensim in /usr/local/lib/python3.7/dist-packages (from pyLDAvis) (3.6.0)\n",
      "Requirement already satisfied: scikit-learn in /usr/local/lib/python3.7/dist-packages (from pyLDAvis) (1.0.2)\n",
      "Requirement already satisfied: sklearn in /usr/local/lib/python3.7/dist-packages (from pyLDAvis) (0.0)\n",
      "Requirement already satisfied: numexpr in /usr/local/lib/python3.7/dist-packages (from pyLDAvis) (2.8.1)\n",
      "Collecting numpy>=1.20.0\n",
      "  Downloading numpy-1.21.5-cp37-cp37m-manylinux_2_12_x86_64.manylinux2010_x86_64.whl (15.7 MB)\n",
      "\u001b[K     |████████████████████████████████| 15.7 MB 45.7 MB/s \n",
      "\u001b[?25hRequirement already satisfied: python-dateutil>=2.7.3 in /usr/local/lib/python3.7/dist-packages (from pandas>=1.2.0->pyLDAvis) (2.8.2)\n",
      "Requirement already satisfied: pytz>=2017.3 in /usr/local/lib/python3.7/dist-packages (from pandas>=1.2.0->pyLDAvis) (2018.9)\n",
      "Requirement already satisfied: six>=1.5 in /usr/local/lib/python3.7/dist-packages (from python-dateutil>=2.7.3->pandas>=1.2.0->pyLDAvis) (1.15.0)\n",
      "Requirement already satisfied: smart-open>=1.2.1 in /usr/local/lib/python3.7/dist-packages (from gensim->pyLDAvis) (5.2.1)\n",
      "Requirement already satisfied: MarkupSafe>=0.23 in /usr/local/lib/python3.7/dist-packages (from jinja2->pyLDAvis) (2.0.1)\n",
      "Requirement already satisfied: packaging in /usr/local/lib/python3.7/dist-packages (from numexpr->pyLDAvis) (21.3)\n",
      "Requirement already satisfied: pyparsing!=3.0.5,>=2.0.2 in /usr/local/lib/python3.7/dist-packages (from packaging->numexpr->pyLDAvis) (3.0.7)\n",
      "Requirement already satisfied: threadpoolctl>=2.0.0 in /usr/local/lib/python3.7/dist-packages (from scikit-learn->pyLDAvis) (3.0.0)\n",
      "Building wheels for collected packages: pyLDAvis\n",
      "  Building wheel for pyLDAvis (PEP 517) ... \u001b[?25l\u001b[?25hdone\n",
      "  Created wheel for pyLDAvis: filename=pyLDAvis-3.3.1-py2.py3-none-any.whl size=136898 sha256=14c2700404c19d320b33d8a23e040b306d8c6e0475702f1da326398a44d133c8\n",
      "  Stored in directory: /root/.cache/pip/wheels/c9/21/f6/17bcf2667e8a68532ba2fbf6d5c72fdf4c7f7d9abfa4852d2f\n",
      "Successfully built pyLDAvis\n",
      "Installing collected packages: numpy, pandas, funcy, pyLDAvis\n",
      "  Attempting uninstall: numpy\n",
      "    Found existing installation: numpy 1.19.5\n",
      "    Uninstalling numpy-1.19.5:\n",
      "      Successfully uninstalled numpy-1.19.5\n",
      "  Attempting uninstall: pandas\n",
      "    Found existing installation: pandas 1.1.5\n",
      "    Uninstalling pandas-1.1.5:\n",
      "      Successfully uninstalled pandas-1.1.5\n",
      "\u001b[31mERROR: pip's dependency resolver does not currently take into account all the packages that are installed. This behaviour is the source of the following dependency conflicts.\n",
      "yellowbrick 1.3.post1 requires numpy<1.20,>=1.16.0, but you have numpy 1.21.5 which is incompatible.\n",
      "google-colab 1.0.0 requires pandas~=1.1.0; python_version >= \"3.0\", but you have pandas 1.3.5 which is incompatible.\n",
      "datascience 0.10.6 requires folium==0.2.1, but you have folium 0.8.3 which is incompatible.\n",
      "albumentations 0.1.12 requires imgaug<0.2.7,>=0.2.5, but you have imgaug 0.2.9 which is incompatible.\u001b[0m\n",
      "Successfully installed funcy-1.17 numpy-1.21.5 pandas-1.3.5 pyLDAvis-3.3.1\n"
     ]
    },
    {
     "data": {
      "application/vnd.colab-display-data+json": {
       "pip_warning": {
        "packages": [
         "numpy",
         "pandas"
        ]
       }
      }
     },
     "metadata": {},
     "output_type": "display_data"
    }
   ],
   "source": [
    "pip install pyLDAvis"
   ]
  },
  {
   "cell_type": "markdown",
   "metadata": {
    "id": "xAXCkALV5Ioj"
   },
   "source": [
    "# New Section"
   ]
  },
  {
   "cell_type": "code",
   "execution_count": null,
   "metadata": {
    "colab": {
     "base_uri": "https://localhost:8080/"
    },
    "id": "zijRWYWNtfQ_",
    "outputId": "b7e5fb59-b601-45ca-e54c-f6881b85e73a"
   },
   "outputs": [
    {
     "name": "stdout",
     "output_type": "stream",
     "text": [
      "Collecting demoji\n",
      "  Downloading demoji-1.1.0-py3-none-any.whl (42 kB)\n",
      "\u001b[?25l\r",
      "\u001b[K     |███████▋                        | 10 kB 22.7 MB/s eta 0:00:01\r",
      "\u001b[K     |███████████████▎                | 20 kB 12.8 MB/s eta 0:00:01\r",
      "\u001b[K     |███████████████████████         | 30 kB 9.9 MB/s eta 0:00:01\r",
      "\u001b[K     |██████████████████████████████▋ | 40 kB 8.8 MB/s eta 0:00:01\r",
      "\u001b[K     |████████████████████████████████| 42 kB 710 kB/s \n",
      "\u001b[?25hInstalling collected packages: demoji\n",
      "Successfully installed demoji-1.1.0\n"
     ]
    }
   ],
   "source": [
    "pip install demoji"
   ]
  },
  {
   "cell_type": "code",
   "execution_count": null,
   "metadata": {
    "colab": {
     "base_uri": "https://localhost:8080/"
    },
    "id": "BMR91D7anJF2",
    "outputId": "1f5b6eb6-5433-4eef-d6e5-b8bda4b1b3fc"
   },
   "outputs": [
    {
     "name": "stdout",
     "output_type": "stream",
     "text": [
      "Requirement already satisfied: openpyxl in /usr/local/lib/python3.7/dist-packages (2.5.9)\n",
      "Collecting openpyxl\n",
      "  Downloading openpyxl-3.0.9-py2.py3-none-any.whl (242 kB)\n",
      "\u001b[K     |████████████████████████████████| 242 kB 5.2 MB/s \n",
      "\u001b[?25hRequirement already satisfied: et-xmlfile in /usr/local/lib/python3.7/dist-packages (from openpyxl) (1.1.0)\n",
      "Installing collected packages: openpyxl\n",
      "  Attempting uninstall: openpyxl\n",
      "    Found existing installation: openpyxl 2.5.9\n",
      "    Uninstalling openpyxl-2.5.9:\n",
      "      Successfully uninstalled openpyxl-2.5.9\n",
      "Successfully installed openpyxl-3.0.9\n"
     ]
    }
   ],
   "source": [
    "pip install openpyxl --upgrade\n"
   ]
  },
  {
   "cell_type": "code",
   "execution_count": null,
   "metadata": {
    "colab": {
     "base_uri": "https://localhost:8080/"
    },
    "id": "pXvzCMPwi5GO",
    "outputId": "f42df4c5-4020-45e7-d3ec-5d5e7d7176ca"
   },
   "outputs": [
    {
     "name": "stdout",
     "output_type": "stream",
     "text": [
      "[nltk_data] Downloading package stopwords to /root/nltk_data...\n",
      "[nltk_data]   Package stopwords is already up-to-date!\n"
     ]
    },
    {
     "name": "stderr",
     "output_type": "stream",
     "text": [
      "/usr/local/lib/python3.7/dist-packages/ipykernel_launcher.py:17: FutureWarning: The demoji.download_codes attribute is deprecated and will be removed from demoji in a future version. It is an unused attribute as emoji codes are now distributed directly with the demoji package.\n",
      "/usr/local/lib/python3.7/dist-packages/past/types/oldstr.py:5: DeprecationWarning: Using or importing the ABCs from 'collections' instead of from 'collections.abc' is deprecated since Python 3.3,and in 3.9 it will stop working\n",
      "  from collections import Iterable\n"
     ]
    }
   ],
   "source": [
    "import numpy as np\n",
    "import pandas as pd\n",
    "import json\n",
    "import glob\n",
    "from nltk.corpus import stopwords\n",
    "\n",
    "import gensim\n",
    "import gensim.corpora as corpora\n",
    "from gensim.utils import simple_preprocess\n",
    "from gensim.models import CoherenceModel\n",
    "from gensim.models import TfidfModel\n",
    "\n",
    "import nltk\n",
    "import re\n",
    "nltk.download('stopwords')\n",
    "import demoji\n",
    "demoji.download_codes()\n",
    "import string\n",
    "from nltk.corpus import stopwords\n",
    "from nltk.tokenize import sent_tokenize, word_tokenize\n",
    "from nltk.stem import WordNetLemmatizer\n",
    "\n",
    "import spacy\n",
    "\n",
    "import pyLDAvis\n",
    "import pyLDAvis.gensim_models\n",
    "\n",
    "import warnings\n",
    "warnings.filterwarnings(\"ignore\", category=DeprecationWarning)"
   ]
  },
  {
   "cell_type": "code",
   "execution_count": null,
   "metadata": {
    "colab": {
     "base_uri": "https://localhost:8080/"
    },
    "id": "g0XM5aOgODGC",
    "outputId": "fe20da47-19c3-4195-891d-cb424b426619"
   },
   "outputs": [
    {
     "name": "stdout",
     "output_type": "stream",
     "text": [
      "Drive already mounted at /content/drive; to attempt to forcibly remount, call drive.mount(\"/content/drive\", force_remount=True).\n"
     ]
    }
   ],
   "source": [
    "from google.colab import drive\n",
    "drive.mount('/content/drive')"
   ]
  },
  {
   "cell_type": "code",
   "execution_count": null,
   "metadata": {
    "colab": {
     "base_uri": "https://localhost:8080/",
     "height": 582
    },
    "id": "guGhAjnPjF6T",
    "outputId": "72dcf7dd-17c7-487b-fc88-cb7569b58431"
   },
   "outputs": [
    {
     "data": {
      "text/html": [
       "\n",
       "  <div id=\"df-6554d8a3-f615-410c-838b-e4d259f97cbe\">\n",
       "    <div class=\"colab-df-container\">\n",
       "      <div>\n",
       "<style scoped>\n",
       "    .dataframe tbody tr th:only-of-type {\n",
       "        vertical-align: middle;\n",
       "    }\n",
       "\n",
       "    .dataframe tbody tr th {\n",
       "        vertical-align: top;\n",
       "    }\n",
       "\n",
       "    .dataframe thead th {\n",
       "        text-align: right;\n",
       "    }\n",
       "</style>\n",
       "<table border=\"1\" class=\"dataframe\">\n",
       "  <thead>\n",
       "    <tr style=\"text-align: right;\">\n",
       "      <th></th>\n",
       "      <th>index</th>\n",
       "      <th>author_id</th>\n",
       "      <th>name</th>\n",
       "      <th>username</th>\n",
       "      <th>location</th>\n",
       "      <th>id_location</th>\n",
       "      <th>created_at</th>\n",
       "      <th>lang</th>\n",
       "      <th>like_count</th>\n",
       "      <th>retweet_count</th>\n",
       "      <th>text</th>\n",
       "      <th>Longtitude</th>\n",
       "      <th>Latitude</th>\n",
       "    </tr>\n",
       "  </thead>\n",
       "  <tbody>\n",
       "    <tr>\n",
       "      <th>0</th>\n",
       "      <td>1</td>\n",
       "      <td>2834847965</td>\n",
       "      <td>Regen-Alarm München</td>\n",
       "      <td>regenInMuenchen</td>\n",
       "      <td>München</td>\n",
       "      <td>1.414422e+18</td>\n",
       "      <td>2021-07-12T03:12:01.000Z</td>\n",
       "      <td>de</td>\n",
       "      <td>0</td>\n",
       "      <td>0</td>\n",
       "      <td>storm fog moderate today munich</td>\n",
       "      <td>11.525549</td>\n",
       "      <td>48.154890</td>\n",
       "    </tr>\n",
       "    <tr>\n",
       "      <th>1</th>\n",
       "      <td>2</td>\n",
       "      <td>1557947881</td>\n",
       "      <td>StephanSRT</td>\n",
       "      <td>StephanSRT</td>\n",
       "      <td>Niedersachsen, Goslar</td>\n",
       "      <td>1.414459e+18</td>\n",
       "      <td>2021-07-12T05:36:32.000Z</td>\n",
       "      <td>de</td>\n",
       "      <td>4</td>\n",
       "      <td>0</td>\n",
       "      <td>you might think yesterday it rained heavily in...</td>\n",
       "      <td>10.443266</td>\n",
       "      <td>52.346401</td>\n",
       "    </tr>\n",
       "    <tr>\n",
       "      <th>2</th>\n",
       "      <td>3</td>\n",
       "      <td>19669684</td>\n",
       "      <td>Jan Ole Unger</td>\n",
       "      <td>jounger</td>\n",
       "      <td>Hamburg, Germany</td>\n",
       "      <td>1.414469e+18</td>\n",
       "      <td>2021-07-12T06:17:08.000Z</td>\n",
       "      <td>de</td>\n",
       "      <td>2</td>\n",
       "      <td>0</td>\n",
       "      <td>Incidentally, in puntaarenas there is the sout...</td>\n",
       "      <td>9.941648</td>\n",
       "      <td>53.567331</td>\n",
       "    </tr>\n",
       "    <tr>\n",
       "      <th>3</th>\n",
       "      <td>4</td>\n",
       "      <td>2315299130</td>\n",
       "      <td>Regen-Alarm Berlin</td>\n",
       "      <td>regenberlin</td>\n",
       "      <td>Berlin</td>\n",
       "      <td>1.414483e+18</td>\n",
       "      <td>2021-07-12T07:12:02.000Z</td>\n",
       "      <td>de</td>\n",
       "      <td>0</td>\n",
       "      <td>0</td>\n",
       "      <td>storm heat moderate morning berlin</td>\n",
       "      <td>13.397340</td>\n",
       "      <td>52.506786</td>\n",
       "    </tr>\n",
       "    <tr>\n",
       "      <th>4</th>\n",
       "      <td>5</td>\n",
       "      <td>2834830029</td>\n",
       "      <td>Regen-Alarm Köln</td>\n",
       "      <td>regenInKoeln</td>\n",
       "      <td>Köln</td>\n",
       "      <td>1.414500e+18</td>\n",
       "      <td>2021-07-12T08:20:02.000Z</td>\n",
       "      <td>de</td>\n",
       "      <td>0</td>\n",
       "      <td>0</td>\n",
       "      <td>storm continuous rain heavy morning thursday c...</td>\n",
       "      <td>6.955322</td>\n",
       "      <td>50.957555</td>\n",
       "    </tr>\n",
       "  </tbody>\n",
       "</table>\n",
       "</div>\n",
       "      <button class=\"colab-df-convert\" onclick=\"convertToInteractive('df-6554d8a3-f615-410c-838b-e4d259f97cbe')\"\n",
       "              title=\"Convert this dataframe to an interactive table.\"\n",
       "              style=\"display:none;\">\n",
       "        \n",
       "  <svg xmlns=\"http://www.w3.org/2000/svg\" height=\"24px\"viewBox=\"0 0 24 24\"\n",
       "       width=\"24px\">\n",
       "    <path d=\"M0 0h24v24H0V0z\" fill=\"none\"/>\n",
       "    <path d=\"M18.56 5.44l.94 2.06.94-2.06 2.06-.94-2.06-.94-.94-2.06-.94 2.06-2.06.94zm-11 1L8.5 8.5l.94-2.06 2.06-.94-2.06-.94L8.5 2.5l-.94 2.06-2.06.94zm10 10l.94 2.06.94-2.06 2.06-.94-2.06-.94-.94-2.06-.94 2.06-2.06.94z\"/><path d=\"M17.41 7.96l-1.37-1.37c-.4-.4-.92-.59-1.43-.59-.52 0-1.04.2-1.43.59L10.3 9.45l-7.72 7.72c-.78.78-.78 2.05 0 2.83L4 21.41c.39.39.9.59 1.41.59.51 0 1.02-.2 1.41-.59l7.78-7.78 2.81-2.81c.8-.78.8-2.07 0-2.86zM5.41 20L4 18.59l7.72-7.72 1.47 1.35L5.41 20z\"/>\n",
       "  </svg>\n",
       "      </button>\n",
       "      \n",
       "  <style>\n",
       "    .colab-df-container {\n",
       "      display:flex;\n",
       "      flex-wrap:wrap;\n",
       "      gap: 12px;\n",
       "    }\n",
       "\n",
       "    .colab-df-convert {\n",
       "      background-color: #E8F0FE;\n",
       "      border: none;\n",
       "      border-radius: 50%;\n",
       "      cursor: pointer;\n",
       "      display: none;\n",
       "      fill: #1967D2;\n",
       "      height: 32px;\n",
       "      padding: 0 0 0 0;\n",
       "      width: 32px;\n",
       "    }\n",
       "\n",
       "    .colab-df-convert:hover {\n",
       "      background-color: #E2EBFA;\n",
       "      box-shadow: 0px 1px 2px rgba(60, 64, 67, 0.3), 0px 1px 3px 1px rgba(60, 64, 67, 0.15);\n",
       "      fill: #174EA6;\n",
       "    }\n",
       "\n",
       "    [theme=dark] .colab-df-convert {\n",
       "      background-color: #3B4455;\n",
       "      fill: #D2E3FC;\n",
       "    }\n",
       "\n",
       "    [theme=dark] .colab-df-convert:hover {\n",
       "      background-color: #434B5C;\n",
       "      box-shadow: 0px 1px 3px 1px rgba(0, 0, 0, 0.15);\n",
       "      filter: drop-shadow(0px 1px 2px rgba(0, 0, 0, 0.3));\n",
       "      fill: #FFFFFF;\n",
       "    }\n",
       "  </style>\n",
       "\n",
       "      <script>\n",
       "        const buttonEl =\n",
       "          document.querySelector('#df-6554d8a3-f615-410c-838b-e4d259f97cbe button.colab-df-convert');\n",
       "        buttonEl.style.display =\n",
       "          google.colab.kernel.accessAllowed ? 'block' : 'none';\n",
       "\n",
       "        async function convertToInteractive(key) {\n",
       "          const element = document.querySelector('#df-6554d8a3-f615-410c-838b-e4d259f97cbe');\n",
       "          const dataTable =\n",
       "            await google.colab.kernel.invokeFunction('convertToInteractive',\n",
       "                                                     [key], {});\n",
       "          if (!dataTable) return;\n",
       "\n",
       "          const docLinkHtml = 'Like what you see? Visit the ' +\n",
       "            '<a target=\"_blank\" href=https://colab.research.google.com/notebooks/data_table.ipynb>data table notebook</a>'\n",
       "            + ' to learn more about interactive tables.';\n",
       "          element.innerHTML = '';\n",
       "          dataTable['output_type'] = 'display_data';\n",
       "          await google.colab.output.renderOutput(dataTable, element);\n",
       "          const docLink = document.createElement('div');\n",
       "          docLink.innerHTML = docLinkHtml;\n",
       "          element.appendChild(docLink);\n",
       "        }\n",
       "      </script>\n",
       "    </div>\n",
       "  </div>\n",
       "  "
      ],
      "text/plain": [
       "   index   author_id  ... Longtitude   Latitude\n",
       "0      1  2834847965  ...  11.525549  48.154890\n",
       "1      2  1557947881  ...  10.443266  52.346401\n",
       "2      3    19669684  ...   9.941648  53.567331\n",
       "3      4  2315299130  ...  13.397340  52.506786\n",
       "4      5  2834830029  ...   6.955322  50.957555\n",
       "\n",
       "[5 rows x 13 columns]"
      ]
     },
     "execution_count": 3,
     "metadata": {},
     "output_type": "execute_result"
    }
   ],
   "source": [
    "df = pd.read_excel('/content/drive/MyDrive/1 Pre_Event_En.xlsx')\n",
    "df.head()"
   ]
  },
  {
   "cell_type": "code",
   "execution_count": null,
   "metadata": {
    "colab": {
     "base_uri": "https://localhost:8080/",
     "height": 35
    },
    "id": "5IbzGK2btyyU",
    "outputId": "14d1ef6c-1e8f-40db-d38a-75fb085db807"
   },
   "outputs": [
    {
     "data": {
      "application/vnd.google.colaboratory.intrinsic+json": {
       "type": "string"
      },
      "text/plain": [
       "'you might think yesterday it rained heavily in Braunschweig'"
      ]
     },
     "execution_count": 3,
     "metadata": {},
     "output_type": "execute_result"
    }
   ],
   "source": [
    "df['text'][1]"
   ]
  },
  {
   "cell_type": "markdown",
   "metadata": {
    "id": "ffNAtAKSrbuy"
   },
   "source": [
    "#Data Cleaning"
   ]
  },
  {
   "cell_type": "code",
   "execution_count": null,
   "metadata": {
    "id": "atFCq-l7sWVz"
   },
   "outputs": [],
   "source": [
    "# Remove URL\n",
    "def remove_URL(text):\n",
    "    url = re.compile(r'http\\S+')\n",
    "    return url.sub(r'',text)\n",
    "df['text'] = df['text'].apply(lambda x : remove_URL(x))"
   ]
  },
  {
   "cell_type": "code",
   "execution_count": null,
   "metadata": {
    "id": "ZR6MhXcOt9nG"
   },
   "outputs": [],
   "source": [
    "# Remove html tags\n",
    "\n",
    "def remove_html(text):\n",
    "    html=re.compile(r'<.*?>')\n",
    "    return html.sub(r'',text)\n",
    "\n",
    "df['text']=df['text'].apply(lambda x : remove_html(x))"
   ]
  },
  {
   "cell_type": "code",
   "execution_count": null,
   "metadata": {
    "id": "f57Qe0A2t-Gu"
   },
   "outputs": [],
   "source": [
    "# Remove emojis\n",
    "\n",
    "def remove_emojis(text):\n",
    "  new_text = demoji.replace(text, \"\")\n",
    "  return new_text\n",
    "\n",
    "df['text'] = df['text'].apply(lambda x: remove_emojis(x))"
   ]
  },
  {
   "cell_type": "code",
   "execution_count": null,
   "metadata": {
    "id": "QXA18HReuCE_"
   },
   "outputs": [],
   "source": [
    "# Remove mentions and hashtag\n",
    "\n",
    "def remove_mention_hashtag(text):\n",
    "    text=re.sub(r'@\\w+','',text)        # remove mentions\n",
    "    text=re.sub('[#]','',text)        # remove hashtag\n",
    "    return text\n",
    "\n",
    "df['text']=df['text'].apply(lambda x: remove_mention_hashtag(x))\n"
   ]
  },
  {
   "cell_type": "code",
   "execution_count": null,
   "metadata": {
    "id": "6FQjWsrxuFCJ"
   },
   "outputs": [],
   "source": [
    "# Remove Emails\n",
    "\n",
    "def remove_emails(text):\n",
    "  email = re.compile(r'\\S*@\\S*\\s?')\n",
    "  return email.sub(r'', text)\n",
    "\n",
    "df['text']=df['text'].apply(lambda x : remove_emails(x))"
   ]
  },
  {
   "cell_type": "code",
   "execution_count": null,
   "metadata": {
    "id": "qgjqfvrFuHii"
   },
   "outputs": [],
   "source": [
    "# Remove new line characters\n",
    "\n",
    "def remove_newline(text):\n",
    "  newline = re.compile(r'\\n+')\n",
    "  return newline.sub(r'', text)\n",
    "\n",
    "df['text']=df['text'].apply(lambda x : remove_newline(x))"
   ]
  },
  {
   "cell_type": "code",
   "execution_count": null,
   "metadata": {
    "colab": {
     "base_uri": "https://localhost:8080/"
    },
    "id": "s5kiJ1DOuLG8",
    "outputId": "de05cd65-6583-43ca-e424-62e4d36faf1a"
   },
   "outputs": [
    {
     "data": {
      "text/plain": [
       "89"
      ]
     },
     "execution_count": 11,
     "metadata": {},
     "output_type": "execute_result"
    }
   ],
   "source": [
    "# Remove extra white space left while removing stuff\n",
    "\n",
    "def remove_space(text):\n",
    "    whitespace_remove = re.compile(r'\\s+')\n",
    "    return whitespace_remove.sub(r' ', text)\n",
    "\n",
    "df[\"text\"]=df[\"text\"].apply(lambda x: remove_space(x))\n",
    "len(df)"
   ]
  },
  {
   "cell_type": "code",
   "execution_count": null,
   "metadata": {
    "id": "F4rrNocquN2E"
   },
   "outputs": [],
   "source": [
    "punct=string.punctuation+'”‘’“'\n",
    "\n",
    "def clean_text(text):\n",
    "#Make text lowercase\n",
    "    text = text.lower()\n",
    "#remove text in square brackets\n",
    "    text = re.sub(r'\\[.*?\\]', '', text)\n",
    "#remove punctuation\n",
    "    text = re.sub(r'[%s]' % re.escape(punct), '', text)\n",
    "#remove words containing numbers\n",
    "    text = re.sub(r'\\w*\\d\\w*', '', text)\n",
    "    return text\n",
    "\n",
    "tweets_df_clean = pd.DataFrame(df[\"text\"].apply(lambda x: clean_text(x)))\n",
    "data = tweets_df_clean['text'].to_list()"
   ]
  },
  {
   "cell_type": "code",
   "execution_count": null,
   "metadata": {
    "id": "f3TnljYcp5jB"
   },
   "outputs": [],
   "source": [
    "# from deep_translator import GoogleTranslator\n"
   ]
  },
  {
   "cell_type": "code",
   "execution_count": null,
   "metadata": {
    "colab": {
     "base_uri": "https://localhost:8080/"
    },
    "id": "k-d4FnD2zt4F",
    "outputId": "2e360031-0762-4d42-c791-130fd65898e6"
   },
   "outputs": [
    {
     "data": {
      "text/plain": [
       "89"
      ]
     },
     "execution_count": 45,
     "metadata": {},
     "output_type": "execute_result"
    }
   ],
   "source": [
    "len(data)"
   ]
  },
  {
   "cell_type": "code",
   "execution_count": null,
   "metadata": {
    "id": "BvU52VD7rlNd"
   },
   "outputs": [],
   "source": [
    "df['text'] = data\n",
    "# df2.dropna(inplace=True,axis=0)\n",
    "df.replace(r'^\\s*$', np.nan, regex=True,inplace = True)\n",
    "# df2.dropna(inplace= True)\n",
    "data_nan = df2['text']\n",
    "for i in range(len(data_nan)):\n",
    "    try:\n",
    "        data_nan.iloc[i] = GoogleTranslator(source='auto', target='en').translate(data_nan.iloc[i])\n",
    "    except:\n",
    "        pass"
   ]
  },
  {
   "cell_type": "code",
   "execution_count": null,
   "metadata": {
    "colab": {
     "base_uri": "https://localhost:8080/",
     "height": 35
    },
    "id": "-2DGEr5S5QUH",
    "outputId": "ec1bcd96-bbab-491d-a521-72d84d93b771"
   },
   "outputs": [
    {
     "data": {
      "application/vnd.google.colaboratory.intrinsic+json": {
       "type": "string"
      },
      "text/plain": [
       "'you might think yesterday it rained heavily in braunschweig'"
      ]
     },
     "execution_count": 13,
     "metadata": {},
     "output_type": "execute_result"
    }
   ],
   "source": [
    "data[1]"
   ]
  },
  {
   "cell_type": "markdown",
   "metadata": {
    "id": "DSXp_tnRsq59"
   },
   "source": [
    "# Lemmatization"
   ]
  },
  {
   "cell_type": "code",
   "execution_count": null,
   "metadata": {
    "colab": {
     "base_uri": "https://localhost:8080/"
    },
    "id": "Tz46wZ6Qwh7u",
    "outputId": "5697f65d-42ba-48c6-b519-05fafb5744aa"
   },
   "outputs": [
    {
     "name": "stdout",
     "output_type": "stream",
     "text": [
      "may think yesterday rain heavily\n"
     ]
    }
   ],
   "source": [
    "def lemmatization(texts, allowed_postags=[\"NOUN\", \"ADJ\", \"VERB\", \"ADV\"]):\n",
    "    nlp = spacy.load(\"en_core_web_sm\", disable=[\"parser\", \"ner\"])\n",
    "    texts_out = []\n",
    "    for text in texts:\n",
    "        doc = nlp(text)\n",
    "        new_text = []\n",
    "        for token in doc:\n",
    "            if token.pos_ in allowed_postags:\n",
    "                new_text.append(token.lemma_)\n",
    "        final = \" \".join(new_text)\n",
    "        texts_out.append(final)\n",
    "    return (texts_out)\n",
    "\n",
    "lemmatized_texts = lemmatization(data)\n",
    "print (lemmatized_texts[1])"
   ]
  },
  {
   "cell_type": "markdown",
   "metadata": {
    "id": "zWhmS-tOsyfb"
   },
   "source": [
    "# Stopwords"
   ]
  },
  {
   "cell_type": "code",
   "execution_count": null,
   "metadata": {
    "colab": {
     "base_uri": "https://localhost:8080/"
    },
    "id": "YgR1w3kVxobq",
    "outputId": "cfada8f4-155b-44e2-e7cd-73004bfae7f5"
   },
   "outputs": [
    {
     "name": "stdout",
     "output_type": "stream",
     "text": [
      "['may', 'think', 'yesterday', 'rain', 'heavily']\n"
     ]
    }
   ],
   "source": [
    "stopwords = nltk.corpus.stopwords.words('english')\n",
    "newStopWords = []\n",
    "stopwords.extend(newStopWords)\n",
    "def gen_words(texts):\n",
    "    final = []\n",
    "    for text in texts:\n",
    "        new = gensim.utils.simple_preprocess(text, deacc=True)\n",
    "        new = [i for i in new if str(i) not in stopwords]\n",
    "        final.append(new)\n",
    "    return (final)\n",
    "\n",
    "data_words = gen_words(lemmatized_texts)\n",
    "\n",
    "print (data_words[1])"
   ]
  },
  {
   "cell_type": "markdown",
   "metadata": {
    "id": "iXqOHAUas3pW"
   },
   "source": [
    "# Bigram"
   ]
  },
  {
   "cell_type": "code",
   "execution_count": null,
   "metadata": {
    "colab": {
     "base_uri": "https://localhost:8080/"
    },
    "id": "R3aj8i6k08vd",
    "outputId": "79cc1ceb-b262-40cf-960a-0f65ce4d33fd"
   },
   "outputs": [
    {
     "name": "stderr",
     "output_type": "stream",
     "text": [
      "/usr/local/lib/python3.7/dist-packages/gensim/models/phrases.py:598: UserWarning: For a faster implementation, use the gensim.models.phrases.Phraser class\n",
      "  warnings.warn(\"For a faster implementation, use the gensim.models.phrases.Phraser class\")\n"
     ]
    }
   ],
   "source": [
    "bigram = gensim.models.Phrases(data_words, min_count=5, threshold=10) # higher threshold fewer phrases.\n",
    "trigram = gensim.models.Phrases(bigram[data_words], threshold=20)\n",
    "\n",
    "bigram_mod = gensim.models.phrases.Phraser(bigram)\n",
    "trigram_mod = gensim.models.phrases.Phraser(trigram)\n",
    "def make_bigrams(texts):\n",
    "    return [bigram_mod[doc] for doc in texts]\n",
    "\n",
    "def make_trigrams(texts):\n",
    "    return [trigram_mod[bigram_mod[doc]] for doc in texts]\n",
    "data_words_bigrams = make_bigrams(data_words)\n",
    "data_words = data_words_bigrams"
   ]
  },
  {
   "cell_type": "code",
   "execution_count": null,
   "metadata": {
    "colab": {
     "base_uri": "https://localhost:8080/"
    },
    "id": "63kth-_a1Id1",
    "outputId": "89fac6ce-b450-4a4a-fa98-316de9199fc9"
   },
   "outputs": [
    {
     "name": "stdout",
     "output_type": "stream",
     "text": [
      "[(0, 1), (1, 1)]\n"
     ]
    }
   ],
   "source": [
    "id2word = corpora.Dictionary(data_words)\n",
    "\n",
    "texts = data_words\n",
    "\n",
    "corpus = [id2word.doc2bow(text) for text in texts]\n",
    "print (corpus[0][0:20])\n",
    "\n",
    "tfidf = TfidfModel(corpus, id2word=id2word)\n",
    "low_value = 0.03\n",
    "words = []\n",
    "words_missing_in_tfidf = []\n",
    "for i in range(0, len(corpus)):\n",
    "    bow = corpus[i]\n",
    "    low_value_words = []\n",
    "    tfidf_ids = [id for id, value in tfidf[bow]]\n",
    "    bow_ids = [id for id, value in bow]\n",
    "    low_value_words = [id for id, value in tfidf[bow] if value < low_value]\n",
    "    words_missing_in_tfidf = [id for id in bow_ids if id not in tfidf_ids] # The words with tf-idf socre 0 will be missing\n",
    "    new_bow = [b for b in bow if b[0] not in low_value_words and b[0] not in words_missing_in_tfidf]\n",
    "    corpus[i] = new_bow"
   ]
  },
  {
   "cell_type": "code",
   "execution_count": null,
   "metadata": {
    "colab": {
     "base_uri": "https://localhost:8080/",
     "height": 916
    },
    "id": "F48LTXYO4Tjo",
    "outputId": "c2543761-03b2-4f7f-94c0-637d76d1d4ee"
   },
   "outputs": [
    {
     "name": "stderr",
     "output_type": "stream",
     "text": [
      "/usr/local/lib/python3.7/dist-packages/pyLDAvis/_prepare.py:247: FutureWarning: In a future version of pandas all arguments of DataFrame.drop except for the argument 'labels' will be keyword-only\n",
      "  by='saliency', ascending=False).head(R).drop('saliency', 1)\n"
     ]
    },
    {
     "data": {
      "text/html": [
       "\n",
       "<link rel=\"stylesheet\" type=\"text/css\" href=\"https://cdn.jsdelivr.net/gh/bmabey/pyLDAvis@3.3.1/pyLDAvis/js/ldavis.v1.0.0.css\">\n",
       "\n",
       "\n",
       "<div id=\"ldavis_el23671405675455755048613873336\"></div>\n",
       "<script type=\"text/javascript\">\n",
       "\n",
       "var ldavis_el23671405675455755048613873336_data = {\"mdsDat\": {\"x\": [-0.020603951968541936, 0.09311128370056787, -0.07250733173202592], \"y\": [0.10663388746782278, -0.0544765723401953, -0.05215731512762745], \"topics\": [1, 2, 3], \"cluster\": [1, 1, 1], \"Freq\": [40.248504218513006, 31.9041745869434, 27.847321194543596]}, \"tinfo\": {\"Term\": [\"climate_crisis\", \"storm\", \"fire_brigade\", \"heavy\", \"climate\", \"today\", \"good\", \"grow\", \"continuous_rain\", \"get\", \"first\", \"high\", \"water\", \"strong\", \"heavy_rain\", \"get\", \"fire\", \"vogtland\", \"attention\", \"new\", \"light\", \"blue\", \"way\", \"ladder\", \"take\", \"youth\", \"stop\", \"work\", \"social\", \"fire_brigade\", \"heavy_rain\", \"water\", \"use\", \"rain\", \"warn\", \"weather\", \"day\", \"good\", \"flood\", \"storm\", \"warning\", \"square\", \"climate_crisis\", \"grow\", \"child\", \"extreme\", \"heavy\", \"climate\", \"argument\", \"well\", \"service\", \"place\", \"right\", \"grandchild\", \"uproot\", \"emergency\", \"justice\", \"continuous_rain\", \"storm\", \"today\", \"strong\", \"ready\", \"system\", \"start\", \"weather\", \"warn\", \"morning\", \"severe\", \"flood\", \"first\", \"thunderstorm\", \"humidity\", \"circle\", \"step\", \"go\", \"easy\", \"coffee\", \"hospital\", \"run\", \"option\", \"idea\", \"incentive\", \"year\", \"music\", \"rhine\", \"protection\", \"high\", \"good\", \"flooding\", \"storm\", \"district\", \"come\", \"today\", \"flood\", \"heavy_rain\", \"water\", \"continuous_rain\", \"fire_brigade\", \"day\", \"need\"], \"Freq\": [6.0, 16.0, 10.0, 5.0, 5.0, 9.0, 5.0, 3.0, 7.0, 4.0, 2.0, 4.0, 6.0, 4.0, 11.0, 3.649867811303978, 2.9609369007918, 1.5969383041609884, 1.5969195100747104, 1.5969094192901316, 1.5968150704543203, 1.5967694096541012, 1.596532150081693, 1.5959226666931352, 1.5957077329816074, 1.594713538430984, 1.5942610928774332, 1.5929548408137115, 1.5906577998391616, 8.4388948890292, 6.907492194393496, 4.33377754740976, 2.274639937324296, 2.9654061092817376, 2.96591367574605, 3.650548434723816, 2.2828619085990782, 2.2817562108788594, 2.280700210272691, 1.6058455658434767, 1.5973636307309838, 1.5972940043173902, 6.5077584933498125, 2.729692463736006, 2.0984532674083716, 2.09304390553037, 3.9954161535676493, 3.984698614134232, 1.472034824157293, 1.4719403387967755, 1.4712253495766063, 1.4710731731546938, 1.470516259442438, 1.468506670806418, 1.4681364281715017, 1.466990805673292, 1.466009957645064, 4.623282472486085, 8.403594754067493, 5.24530209728641, 2.737341278635032, 2.0989301935138402, 2.10121743912992, 2.0977761723169177, 3.997268266602807, 2.7331389297434496, 2.10424996927224, 2.103337510647815, 2.109473759902495, 2.0002949592401738, 1.4002732335793526, 1.4002707899988107, 1.3999951890219904, 1.3986171841378885, 1.3961193211997778, 0.8009390267581108, 0.8009350123043635, 0.8009351868458308, 0.8009324814530882, 0.8009275070212709, 0.80092724520907, 0.8009209617162483, 0.8009213980699164, 0.8009201762796455, 2.0008674552528216, 1.9976613030405264, 2.601667810399137, 3.200416081514751, 1.400124786061439, 6.208627099271029, 1.401221081017366, 1.4001782830211573, 3.200221293237277, 2.598030191679749, 3.2040943683960137, 2.0002136229164256, 1.9989340594198641, 2.000298275528052, 1.4020419495379401, 1.4009394583599248], \"Total\": [6.0, 16.0, 10.0, 5.0, 5.0, 9.0, 5.0, 3.0, 7.0, 4.0, 2.0, 4.0, 6.0, 4.0, 11.0, 4.061126909899393, 3.3763034441020308, 2.0077016746402103, 2.0077013272730553, 2.0076984521811077, 2.007688283583738, 2.007685049637175, 2.007666928161695, 2.007623369540533, 2.0076064069255284, 2.00752876977427, 2.0074917606371683, 2.007391107574914, 2.0072113252923725, 10.65476538897736, 11.10537358626047, 6.547931797544597, 3.322596667333707, 5.239299966084561, 5.900436957735522, 9.048432036181826, 4.5247230372568215, 5.696094972392749, 6.988204161854935, 16.218067419182, 2.6386754557941354, 2.6386435871459537, 6.9481574655134954, 3.1624308111233184, 2.5314566684197186, 2.5323987024308656, 5.025231378068285, 5.025072529071331, 1.9006298158584445, 1.9006217238685064, 1.9006276404715656, 1.9006329493340015, 1.900683231683872, 1.900462062854909, 1.9004426365792866, 1.9004929412760208, 1.9004527717635717, 7.542886788055255, 16.218067419182, 9.376095670512736, 4.364216552694618, 3.132203621694746, 3.2156619738817023, 3.2158454297226755, 9.048432036181826, 5.900436957735522, 3.7331765923252815, 3.900490154473939, 6.988204161854935, 2.441100583635743, 1.8403445176700042, 1.840357108167772, 1.8403013745691128, 1.840474409666185, 1.8409357538533748, 1.2394708325906052, 1.2394710305613637, 1.2394713889380258, 1.239471067382055, 1.2394719170765347, 1.2394719183048513, 1.2394724433794346, 1.2394732085695965, 1.239472685871394, 3.125522190088459, 3.125648832819171, 4.4107552296376795, 5.696094972392749, 2.471258455163664, 16.218067419182, 2.5247411280518683, 2.5247842720774925, 9.376095670512736, 6.988204161854935, 11.10537358626047, 6.547931797544597, 7.542886788055255, 10.65476538897736, 4.5247230372568215, 3.2091102167640644], \"Category\": [\"Default\", \"Default\", \"Default\", \"Default\", \"Default\", \"Default\", \"Default\", \"Default\", \"Default\", \"Default\", \"Default\", \"Default\", \"Default\", \"Default\", \"Default\", \"Topic1\", \"Topic1\", \"Topic1\", \"Topic1\", \"Topic1\", \"Topic1\", \"Topic1\", \"Topic1\", \"Topic1\", \"Topic1\", \"Topic1\", \"Topic1\", \"Topic1\", \"Topic1\", \"Topic1\", \"Topic1\", \"Topic1\", \"Topic1\", \"Topic1\", \"Topic1\", \"Topic1\", \"Topic1\", \"Topic1\", \"Topic1\", \"Topic1\", \"Topic1\", \"Topic1\", \"Topic2\", \"Topic2\", \"Topic2\", \"Topic2\", \"Topic2\", \"Topic2\", \"Topic2\", \"Topic2\", \"Topic2\", \"Topic2\", \"Topic2\", \"Topic2\", \"Topic2\", \"Topic2\", \"Topic2\", \"Topic2\", \"Topic2\", \"Topic2\", \"Topic2\", \"Topic2\", \"Topic2\", \"Topic2\", \"Topic2\", \"Topic2\", \"Topic2\", \"Topic2\", \"Topic2\", \"Topic3\", \"Topic3\", \"Topic3\", \"Topic3\", \"Topic3\", \"Topic3\", \"Topic3\", \"Topic3\", \"Topic3\", \"Topic3\", \"Topic3\", \"Topic3\", \"Topic3\", \"Topic3\", \"Topic3\", \"Topic3\", \"Topic3\", \"Topic3\", \"Topic3\", \"Topic3\", \"Topic3\", \"Topic3\", \"Topic3\", \"Topic3\", \"Topic3\", \"Topic3\", \"Topic3\", \"Topic3\", \"Topic3\", \"Topic3\", \"Topic3\"], \"logprob\": [15.0, 14.0, 13.0, 12.0, 11.0, 10.0, 9.0, 8.0, 7.0, 6.0, 5.0, 4.0, 3.0, 2.0, 1.0, -4.307, -4.5161, -5.1336, -5.1336, -5.1336, -5.1336, -5.1337, -5.1338, -5.1342, -5.1343, -5.135, -5.1352, -5.1361, -5.1375, -3.4688, -3.669, -4.1352, -4.7798, -4.5146, -4.5145, -4.3068, -4.7762, -4.7767, -4.7772, -5.128, -5.1333, -5.1333, -3.4963, -4.3651, -4.6281, -4.6307, -3.9842, -3.9869, -4.9827, -4.9827, -4.9832, -4.9833, -4.9837, -4.9851, -4.9853, -4.9861, -4.9868, -3.8382, -3.2407, -3.712, -4.3623, -4.6279, -4.6268, -4.6284, -3.9837, -4.3639, -4.6254, -4.6258, -4.6229, -4.54, -4.8966, -4.8966, -4.8968, -4.8978, -4.8996, -5.4553, -5.4553, -5.4553, -5.4553, -5.4553, -5.4553, -5.4553, -5.4553, -5.4553, -4.5397, -4.5413, -4.2772, -4.07, -4.8968, -3.4074, -4.896, -4.8967, -4.0701, -4.2786, -4.0689, -4.5401, -4.5407, -4.54, -4.8954, -4.8962], \"loglift\": [15.0, 14.0, 13.0, 12.0, 11.0, 10.0, 9.0, 8.0, 7.0, 6.0, 5.0, 4.0, 3.0, 2.0, 1.0, 0.8033, 0.7788, 0.6812, 0.6812, 0.6812, 0.6811, 0.6811, 0.681, 0.6806, 0.6805, 0.6799, 0.6796, 0.6789, 0.6775, 0.6769, 0.4353, 0.4974, 0.5312, 0.3409, 0.2223, 0.0024, 0.226, -0.0047, -0.2096, -1.4024, 0.4082, 0.4081, 1.077, 0.9953, 0.9548, 0.9519, 0.9131, 0.9105, 0.8869, 0.8868, 0.8863, 0.8862, 0.8858, 0.8846, 0.8843, 0.8835, 0.8829, 0.6529, 0.485, 0.5616, 0.676, 0.7421, 0.7169, 0.7152, 0.3255, 0.3729, 0.5691, 0.5249, -0.0554, 1.0793, 1.0051, 1.0051, 1.005, 1.0039, 1.0019, 0.8418, 0.8418, 0.8418, 0.8418, 0.8418, 0.8418, 0.8418, 0.8418, 0.8418, 0.8324, 0.8308, 0.7505, 0.7019, 0.7103, 0.3182, 0.6896, 0.6889, 0.2035, 0.289, 0.0354, 0.0925, -0.0496, -0.3943, 0.1068, 0.4496]}, \"token.table\": {\"Topic\": [2, 1, 1, 2, 3, 2, 3, 2, 3, 1, 3, 1, 2, 3, 1, 2, 3, 1, 3, 3, 2, 2, 1, 1, 3, 3, 1, 2, 3, 2, 3, 1, 3, 1, 3, 2, 2, 2, 3, 1, 2, 3, 1, 3, 3, 3, 3, 3, 2, 1, 1, 2, 3, 3, 1, 3, 1, 3, 2, 1, 3, 1, 2, 3, 2, 3, 1, 3, 2, 3, 2, 1, 2, 1, 1, 2, 1, 2, 3, 1, 1, 2, 3, 2, 3, 1, 2, 1, 3, 1, 2, 3, 2, 1, 2, 1, 1, 2, 1, 2, 1, 3, 1, 1, 2, 3, 2, 1, 3, 1], \"Freq\": [0.5261413830595606, 0.9961641070967884, 0.9961721836606972, 0.7900589510183145, 0.5433892588566585, 0.7960084111938636, 0.1990021027984659, 1.007461335576204, 0.8067957825098132, 0.3960734432083421, 0.3960734432083421, 0.13257523652397613, 0.6628761826198806, 0.26515047304795225, 0.4420160048541952, 0.2210080024270976, 0.2210080024270976, 0.3960802115073146, 0.3960802115073146, 0.806795911372848, 0.5261792760611804, 0.7897650547996993, 0.8885457274998831, 0.7508377432952409, 0.18770943582381022, 0.8193025774551356, 0.28619656118763476, 0.28619656118763476, 0.42929484178145216, 0.40465213094588, 0.40465213094588, 0.9849482886756407, 0.5432020090363496, 0.35111774113553157, 0.5266766117032974, 0.5261878253427389, 0.9486373549890814, 0.7959832491409804, 0.1989958122852451, 0.6303254857324544, 0.0900464979617792, 0.2701394938853376, 0.45343708636588514, 0.6801556295488277, 0.8067955492355463, 0.5433728027902056, 0.806795204660738, 0.8067948628801214, 0.5261903978134777, 0.9962027890010676, 0.9961705790452616, 0.5357367781935708, 0.2678683890967854, 0.8067947050377829, 0.6232257120843666, 0.3116128560421833, 0.9961655336374124, 0.806795205460272, 0.5261405156373874, 0.31993357331125793, 0.6398671466225159, 0.5725955794514211, 0.1908651931504737, 0.1908651931504737, 0.6385280912605091, 0.31926404563025457, 0.31994653666870876, 0.6398930733374175, 0.5261265966523365, 0.8067957585425103, 0.5261419852611896, 0.5127560693124582, 0.5127560693124582, 0.9964072914488353, 0.7579651945957838, 0.3789825972978919, 0.3109602192808865, 0.621920438561773, 0.5433381712606232, 0.9962680989361618, 0.12331925551342142, 0.4932770220536857, 0.36995776654026424, 0.6874086021574013, 0.22913620071913376, 0.3109779597862633, 0.6219559195725266, 0.9962112060913489, 0.5433765202105011, 0.10665420182783977, 0.5332710091391988, 0.3199626054835193, 0.5261932040211201, 0.6019388448989643, 0.30096942244948216, 0.9961639347431482, 0.5084369211108976, 0.5084369211108976, 0.7579560402581151, 0.37897802012905757, 0.6108799119593696, 0.3054399559796848, 0.9961811752466754, 0.44206554063789855, 0.44206554063789855, 0.11051638515947464, 0.5261436231322296, 0.9963180530455557, 0.8067943648044168, 0.9962497325629279], \"Term\": [\"argument\", \"attention\", \"blue\", \"child\", \"circle\", \"climate\", \"climate\", \"climate_crisis\", \"coffee\", \"come\", \"come\", \"continuous_rain\", \"continuous_rain\", \"continuous_rain\", \"day\", \"day\", \"day\", \"district\", \"district\", \"easy\", \"emergency\", \"extreme\", \"fire\", \"fire_brigade\", \"fire_brigade\", \"first\", \"flood\", \"flood\", \"flood\", \"flooding\", \"flooding\", \"get\", \"go\", \"good\", \"good\", \"grandchild\", \"grow\", \"heavy\", \"heavy\", \"heavy_rain\", \"heavy_rain\", \"heavy_rain\", \"high\", \"high\", \"hospital\", \"humidity\", \"idea\", \"incentive\", \"justice\", \"ladder\", \"light\", \"morning\", \"morning\", \"music\", \"need\", \"need\", \"new\", \"option\", \"place\", \"protection\", \"protection\", \"rain\", \"rain\", \"rain\", \"ready\", \"ready\", \"rhine\", \"rhine\", \"right\", \"run\", \"service\", \"severe\", \"severe\", \"social\", \"square\", \"square\", \"start\", \"start\", \"step\", \"stop\", \"storm\", \"storm\", \"storm\", \"strong\", \"strong\", \"system\", \"system\", \"take\", \"thunderstorm\", \"today\", \"today\", \"today\", \"uproot\", \"use\", \"use\", \"vogtland\", \"warn\", \"warn\", \"warning\", \"warning\", \"water\", \"water\", \"way\", \"weather\", \"weather\", \"weather\", \"well\", \"work\", \"year\", \"youth\"]}, \"R\": 15, \"lambda.step\": 0.01, \"plot.opts\": {\"xlab\": \"PC1\", \"ylab\": \"PC2\"}, \"topic.order\": [3, 1, 2]};\n",
       "\n",
       "function LDAvis_load_lib(url, callback){\n",
       "  var s = document.createElement('script');\n",
       "  s.src = url;\n",
       "  s.async = true;\n",
       "  s.onreadystatechange = s.onload = callback;\n",
       "  s.onerror = function(){console.warn(\"failed to load library \" + url);};\n",
       "  document.getElementsByTagName(\"head\")[0].appendChild(s);\n",
       "}\n",
       "\n",
       "if(typeof(LDAvis) !== \"undefined\"){\n",
       "   // already loaded: just create the visualization\n",
       "   !function(LDAvis){\n",
       "       new LDAvis(\"#\" + \"ldavis_el23671405675455755048613873336\", ldavis_el23671405675455755048613873336_data);\n",
       "   }(LDAvis);\n",
       "}else if(typeof define === \"function\" && define.amd){\n",
       "   // require.js is available: use it to load d3/LDAvis\n",
       "   require.config({paths: {d3: \"https://d3js.org/d3.v5\"}});\n",
       "   require([\"d3\"], function(d3){\n",
       "      window.d3 = d3;\n",
       "      LDAvis_load_lib(\"https://cdn.jsdelivr.net/gh/bmabey/pyLDAvis@3.3.1/pyLDAvis/js/ldavis.v3.0.0.js\", function(){\n",
       "        new LDAvis(\"#\" + \"ldavis_el23671405675455755048613873336\", ldavis_el23671405675455755048613873336_data);\n",
       "      });\n",
       "    });\n",
       "}else{\n",
       "    // require.js not available: dynamically load d3 & LDAvis\n",
       "    LDAvis_load_lib(\"https://d3js.org/d3.v5.js\", function(){\n",
       "         LDAvis_load_lib(\"https://cdn.jsdelivr.net/gh/bmabey/pyLDAvis@3.3.1/pyLDAvis/js/ldavis.v3.0.0.js\", function(){\n",
       "                 new LDAvis(\"#\" + \"ldavis_el23671405675455755048613873336\", ldavis_el23671405675455755048613873336_data);\n",
       "            })\n",
       "         });\n",
       "}\n",
       "</script>"
      ],
      "text/plain": [
       "PreparedData(topic_coordinates=              x         y  topics  cluster       Freq\n",
       "topic                                                \n",
       "2     -0.020604  0.106634       1        1  40.248504\n",
       "0      0.093111 -0.054477       2        1  31.904175\n",
       "1     -0.072507 -0.052157       3        1  27.847321, topic_info=                Term       Freq      Total Category  logprob  loglift\n",
       "113   climate_crisis   6.000000   6.000000  Default  15.0000  15.0000\n",
       "14             storm  16.000000  16.000000  Default  14.0000  14.0000\n",
       "7       fire_brigade  10.000000  10.000000  Default  13.0000  13.0000\n",
       "16             heavy   5.000000   5.000000  Default  12.0000  12.0000\n",
       "112          climate   5.000000   5.000000  Default  11.0000  11.0000\n",
       "..               ...        ...        ...      ...      ...      ...\n",
       "30             water   2.000214   6.547932   Topic3  -4.5401   0.0925\n",
       "15   continuous_rain   1.998934   7.542887   Topic3  -4.5407  -0.0496\n",
       "7       fire_brigade   2.000298  10.654765   Topic3  -4.5400  -0.3943\n",
       "49               day   1.402042   4.524723   Topic3  -4.8954   0.1068\n",
       "213             need   1.400939   3.209110   Topic3  -4.8962   0.4496\n",
       "\n",
       "[100 rows x 6 columns], token_table=      Topic      Freq       Term\n",
       "term                            \n",
       "177       2  0.526141   argument\n",
       "18        1  0.996164  attention\n",
       "99        1  0.996172       blue\n",
       "111       2  0.790059      child\n",
       "241       3  0.543389     circle\n",
       "...     ...       ...        ...\n",
       "57        3  0.110516    weather\n",
       "275       2  0.526144       well\n",
       "68        1  0.996318       work\n",
       "308       3  0.806794       year\n",
       "31        1  0.996250      youth\n",
       "\n",
       "[110 rows x 3 columns], R=15, lambda_step=0.01, plot_opts={'xlab': 'PC1', 'ylab': 'PC2'}, topic_order=[3, 1, 2])"
      ]
     },
     "execution_count": 18,
     "metadata": {},
     "output_type": "execute_result"
    }
   ],
   "source": [
    "lda_model = gensim.models.ldamodel.LdaModel(corpus=corpus,\n",
    "                                           id2word=id2word,\n",
    "                                           num_topics=3,\n",
    "                                           random_state=100,\n",
    "                                           update_every=1,\n",
    "                                           chunksize=100,\n",
    "                                           passes=10,\n",
    "                                           alpha=\"auto\")\n",
    "pyLDAvis.enable_notebook()\n",
    "vis = pyLDAvis.gensim_models.prepare(lda_model, corpus, id2word, mds=\"mmds\", R=15)\n",
    "vis"
   ]
  }
 ],
 "metadata": {
  "colab": {
   "provenance": []
  },
  "kernelspec": {
   "display_name": "Python 3 (ipykernel)",
   "language": "python",
   "name": "python3"
  },
  "language_info": {
   "codemirror_mode": {
    "name": "ipython",
    "version": 3
   },
   "file_extension": ".py",
   "mimetype": "text/x-python",
   "name": "python",
   "nbconvert_exporter": "python",
   "pygments_lexer": "ipython3",
   "version": "3.9.7"
  }
 },
 "nbformat": 4,
 "nbformat_minor": 1
}
